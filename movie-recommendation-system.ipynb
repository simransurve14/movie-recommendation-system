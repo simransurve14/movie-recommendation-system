{
 "cells": [
  {
   "cell_type": "code",
   "execution_count": 1,
   "metadata": {},
   "outputs": [
    {
     "name": "stdout",
     "output_type": "stream",
     "text": [
      "All necessary libraries are imported\n"
     ]
    }
   ],
   "source": [
    "import pandas as pd\n",
    "import numpy as np\n",
    "from sklearn.feature_extraction.text import CountVectorizer\n",
    "from sklearn.metrics.pairwise import cosine_similarity\n",
    "import tkinter as tk\n",
    "\n",
    "def get_title_from_index(index):\n",
    "    return df[df.index == index][\"title\"].values[0]\n",
    "\n",
    "def get_index_from_title(title):\n",
    "    return df[df.title == title][\"index\"].values[0]\n",
    "print(\"All necessary libraries are imported\")"
   ]
  },
  {
   "cell_type": "code",
   "execution_count": 8,
   "metadata": {},
   "outputs": [],
   "source": [
    "df = pd.read_csv(\"movie1.csv\",encoding='unicode_escape')\n",
    "print(\"Data is loaded successfully\")"
   ]
  },
  {
   "cell_type": "code",
   "execution_count": 4,
   "metadata": {},
   "outputs": [],
   "source": [
    "features = ['cast','genres','director']\n",
    "\n",
    "for feature in features:df[feature] = df[feature].fillna('')\n",
    "\n",
    "def combine_features(row):\n",
    "    try:\n",
    "        return row['cast']+\" \"+row[\"genres\"]+\" \"+row[\"director\"]\n",
    "    except:\n",
    "        print (\"Error:\", row )\n",
    "\n",
    "df[\"combined_features\"] = df.apply(combine_features,axis=1)"
   ]
  },
  {
   "cell_type": "code",
   "execution_count": 5,
   "metadata": {},
   "outputs": [],
   "source": [
    "cv = CountVectorizer()\n",
    "\n",
    "count_matrix = cv.fit_transform(df[\"combined_features\"])\n",
    "\n",
    "cosine_sim = cosine_similarity(count_matrix)"
   ]
  },
  {
   "cell_type": "code",
   "execution_count": 6,
   "metadata": {},
   "outputs": [],
   "source": [
    "def wd():\n",
    "    x1 = entry1.get()\n",
    "    movie_user_likes = entry1.get()\n",
    "    movie_index = get_index_from_title(movie_user_likes)\n",
    "    similar_movies =  list(enumerate(cosine_sim[movie_index]))\n",
    "    sorted_similar_movies = sorted(similar_movies,key=lambda x:x[1],reverse=True)\n",
    "\n",
    "    label3 = tk.Label(root, text= 'We recommend to you the below movies:',font=('times', 20 , 'bold'))\n",
    "    canvas1.create_window(750, 210, window=label3)\n",
    "    i=0\n",
    "    j=260\n",
    "    for element in sorted_similar_movies:\n",
    "        label4 = tk.Label(root, text=get_title_from_index(element[0]),font=('times', 20))\n",
    "        canvas1.create_window(750, j, window=label4)\n",
    "        j=j+50\n",
    "        i=i+1\n",
    "        if i>=6:\n",
    "            break\n",
    "           \n",
    "root= tk.Tk()\n",
    "root.title(\"Movie Recommendation System\")\n",
    "canvas1 = tk.Canvas(root, width = 1920, height = 1080,  relief = 'raised')\n",
    "canvas1.pack()\n",
    "\n",
    "label2 = tk.Label(root, text=\"Enter any Bollywood movie\")\n",
    "label2.config(font=('times', 25 , 'bold'))\n",
    "canvas1.create_window(750, 60, window=label2)\n",
    "name=tk.StringVar()\n",
    "\n",
    "entry1 = tk.Entry (root,textvariable=name)\n",
    "canvas1.create_window(750, 100,height=30,width=200,window=entry1)\n",
    "\n",
    "\n",
    "button1 = tk.Button(root,text='Get the Recommended Movies', command=wd, bg='dark grey', fg='white', font=('times', 20, 'bold'))\n",
    "button1.pack()\n",
    "canvas1.create_window(750, 150, window=button1)\n",
    "\n",
    "root.mainloop()"
   ]
  }
 ],
 "metadata": {
  "kernelspec": {
   "display_name": "Python 3",
   "language": "python",
   "name": "python3"
  },
  "language_info": {
   "codemirror_mode": {
    "name": "ipython",
    "version": 3
   },
   "file_extension": ".py",
   "mimetype": "text/x-python",
   "name": "python",
   "nbconvert_exporter": "python",
   "pygments_lexer": "ipython3",
   "version": "3.8.5"
  }
 },
 "nbformat": 4,
 "nbformat_minor": 4
}
